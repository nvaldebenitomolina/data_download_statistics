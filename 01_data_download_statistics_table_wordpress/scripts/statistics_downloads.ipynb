{
 "cells": [
  {
   "cell_type": "code",
   "execution_count": 288,
   "metadata": {},
   "outputs": [],
   "source": [
    "#!/usr/bin/env python\n",
    "# -*- coding: utf-8 -*-\n",
    "\n",
    "import pandas as pd \n",
    "import numpy as np\n",
    "import datetime\n",
    "import numpy as np\n",
    "import matplotlib.pyplot as plt\n",
    "import matplotlib.style as style \n",
    "import matplotlib.ticker as ticker\n",
    "from matplotlib.dates import DateFormatter\n",
    "import matplotlib.dates as mdates\n",
    "import seaborn as sns"
   ]
  },
  {
   "cell_type": "code",
   "execution_count": 289,
   "metadata": {},
   "outputs": [],
   "source": [
    "style.use('seaborn-paper') #sets the size of the charts\n",
    "sns.axes_style({'font.sans-serif': [\n",
    "  'Liberation Sans']})\n",
    "\n",
    "sns.set(font_scale=0.9)"
   ]
  },
  {
   "cell_type": "code",
   "execution_count": 290,
   "metadata": {},
   "outputs": [],
   "source": [
    "def sum_df_by_year(dataframe):\n",
    "    total=[]\n",
    "    months=['enero','febrero','marzo','abril','mayo','junio','julio','agosto','septiembre','octubre','noviembre','diciembre']\n",
    "    for month in months:\n",
    "        #print(month)\n",
    "        #print(dataframe)\n",
    "        df=pd.read_excel(dataframe, sheet_name=month)  # doctest: +SKIP\n",
    "        #print(df)\n",
    "        data=[]\n",
    "        for n in range(0,len(df[0])):\n",
    "            for m in range(0,len(df.count())-1):\n",
    "                #print(m)\n",
    "                #print(n)\n",
    "                #print(df[m][n])\n",
    "                data.append(df[m][n])\n",
    "        \n",
    "        data=np.array(data)\n",
    "        #print(data)\n",
    "        s=np.isnan(data)\n",
    "        #print(data)\n",
    "        data[s]=0.0\n",
    "        total.append(sum(data))\n",
    "        #print(sum(data))\n",
    "    #print(total)\n",
    "    return int(sum(total))\n",
    "\n",
    "\n",
    "\n",
    "\n",
    "        \n"
   ]
  },
  {
   "cell_type": "code",
   "execution_count": 291,
   "metadata": {},
   "outputs": [
    {
     "data": {
      "text/plain": [
       "2171"
      ]
     },
     "execution_count": 291,
     "metadata": {},
     "output_type": "execute_result"
    }
   ],
   "source": [
    "sum_df_by_year('2015-forms2.xlsx')\n"
   ]
  },
  {
   "cell_type": "code",
   "execution_count": 292,
   "metadata": {},
   "outputs": [
    {
     "data": {
      "text/plain": [
       "4786"
      ]
     },
     "execution_count": 292,
     "metadata": {},
     "output_type": "execute_result"
    }
   ],
   "source": [
    "sum_df_by_year('2016-forms2.xlsx')\n"
   ]
  },
  {
   "cell_type": "code",
   "execution_count": 293,
   "metadata": {},
   "outputs": [
    {
     "data": {
      "text/plain": [
       "2721"
      ]
     },
     "execution_count": 293,
     "metadata": {},
     "output_type": "execute_result"
    }
   ],
   "source": [
    "sum_df_by_year('2017-forms2.xlsx')\n"
   ]
  },
  {
   "cell_type": "code",
   "execution_count": 294,
   "metadata": {},
   "outputs": [
    {
     "data": {
      "text/plain": [
       "5517"
      ]
     },
     "execution_count": 294,
     "metadata": {},
     "output_type": "execute_result"
    }
   ],
   "source": [
    "sum_df_by_year('2018-forms2.xlsx')"
   ]
  },
  {
   "cell_type": "code",
   "execution_count": 295,
   "metadata": {},
   "outputs": [
    {
     "data": {
      "text/plain": [
       "12133"
      ]
     },
     "execution_count": 295,
     "metadata": {},
     "output_type": "execute_result"
    }
   ],
   "source": [
    "sum_df_by_year('2019-forms2.xlsx')"
   ]
  },
  {
   "cell_type": "code",
   "execution_count": 296,
   "metadata": {},
   "outputs": [
    {
     "data": {
      "text/plain": [
       "184"
      ]
     },
     "execution_count": 296,
     "metadata": {},
     "output_type": "execute_result"
    }
   ],
   "source": [
    "sum_df_by_year('2020-forms2.xlsx')"
   ]
  },
  {
   "cell_type": "code",
   "execution_count": 318,
   "metadata": {},
   "outputs": [
    {
     "name": "stdout",
     "output_type": "stream",
     "text": [
      "año 2014\n",
      "3247\n",
      "año 2015\n",
      "3247 or 2171\n",
      "año 2016\n",
      "3028 or 4786\n",
      "año 2017\n",
      "2721\n",
      "año 2018\n",
      "6004 or 5517\n",
      "año 2019\n",
      "11258 or 12133\n"
     ]
    }
   ],
   "source": [
    "year2014_fm=3247\n",
    "year2015_fm=3247\n",
    "year2016_fm=3028\n",
    "year2018_nv=6004\n",
    "year2019_nv=11258\n",
    "year2015_wp=sum_df_by_year('2015-forms2.xlsx')\n",
    "year2016_wp=sum_df_by_year('2016-forms2.xlsx')\n",
    "year2017_wp=sum_df_by_year('2017-forms2.xlsx')\n",
    "year2018_wp=sum_df_by_year('2018-forms2.xlsx')\n",
    "year2019_wp=sum_df_by_year('2019-forms2.xlsx')\n",
    "year2020_wp=sum_df_by_year('2020-forms2.xlsx')\n",
    "print('año 2014')\n",
    "print(year2014_fm)\n",
    "print('año 2015')\n",
    "print(str(year2015_fm) +' or '+str(int(year2015_wp)))\n",
    "print('año 2016')\n",
    "print(str(year2016_fm)+' or '+str(int(year2016_wp)))\n",
    "print('año 2017')\n",
    "print(str(int(year2017_wp)))\n",
    "print('año 2018')\n",
    "print(str(year2018_nv)+' or '+str(int(year2018_wp)))\n",
    "print('año 2019')\n",
    "print(str(year2019_nv)+' or '+str(int(year2019_wp)))\n"
   ]
  },
  {
   "cell_type": "markdown",
   "metadata": {},
   "source": [
    "# Plot"
   ]
  },
  {
   "cell_type": "code",
   "execution_count": 325,
   "metadata": {},
   "outputs": [
    {
     "data": {
      "image/png": "[encoded data removed]",
      "text/plain": [
       "<Figure size 576x576 with 1 Axes>"
      ]
     },
     "metadata": {},
     "output_type": "display_data"
    }
   ],
   "source": [
    "sns.set(rc={'figure.figsize':(8,8)})\n",
    "x = [2015,2016,2017,2018,2019,2020]\n",
    "y = [year2014_fm, year2015_fm, year2016_wp, year2017_wp, year2018_nv, year2019_wp]\n",
    "\n",
    "\n",
    "plt.step(x, y , label='Downloads')\n",
    "plt.plot(x, y , 'C0o', alpha=1)\n",
    "\n",
    "z = np.polyfit(x, y, 1)\n",
    "p = np.poly1d(z)\n",
    "#plt.plot(x,p(x),\"--\")\n",
    "\n",
    "plt.legend(title='Scientific Data usage: data services.')\n",
    "plt.xlabel('Year')\n",
    "plt.ylabel('Count')\n",
    "plt.grid(True)\n",
    "#ax = plt.axes()\n",
    "# Setting the background color\n",
    "#ax.set_facecolor(\"white\")\n",
    "plt.savefig('images/figure0.png', dpi=1000, bbox_inches='tight')\n",
    "plt.show()"
   ]
  },
  {
   "cell_type": "code",
   "execution_count": 322,
   "metadata": {},
   "outputs": [],
   "source": [
    "sns.set(rc={'figure.figsize':(6,7)})\n",
    "df_2=pd.DataFrame()\n",
    "df_2['Year']=[2014,2015,2016,2017,2018,2019,2020]\n",
    "df_2['Count']=y\n",
    "df_2.to_csv(\"total_downloads.csv\", sep=',', encoding='utf-8')\n"
   ]
  },
  {
   "cell_type": "code",
   "execution_count": 323,
   "metadata": {},
   "outputs": [
    {
     "data": {
      "image/png": "[encoded data removed]",
      "text/plain": [
       "<Figure size 432x504 with 1 Axes>"
      ]
     },
     "metadata": {},
     "output_type": "display_data"
    }
   ],
   "source": [
    "df = pd.read_csv(\"total_downloads.csv\", sep=',', encoding='utf-8') \n",
    "#df=df.dropna(subset=['Count','Year'])\n",
    "names=np.asarray(df['Year'])\n",
    "size=df['Count']\n",
    "#print(names)\n",
    "#print(np.array(size))\n",
    "#print(np.asarray(df['Type of institution'].value_counts().index))\n",
    "# Create a circle for the center of the plot\n",
    "my_circle=plt.Circle( (0,0), 0.7, color='white')\n",
    "\n",
    "plt.pie(np.array(df['Count']))\n",
    "p=plt.gcf()\n",
    "p.gca().add_artist(my_circle)\n",
    "plt.legend(labels=names, loc='lower right', bbox_to_anchor=(1.2,0.4))\n",
    "#plt.legend(labels=names,loc='lower right', bbox_to_anchor=(2,0.5))\n",
    "#plt.savefig('images/figure1.png', dpi=1000, bbox_inches='tight')\n",
    "plt.show()\n",
    "plt.close()"
   ]
  },
  {
   "cell_type": "code",
   "execution_count": 324,
   "metadata": {},
   "outputs": [
    {
     "data": {
      "image/png": "[encoded data removed]",
      "text/plain": [
       "<Figure size 432x504 with 1 Axes>"
      ]
     },
     "metadata": {},
     "output_type": "display_data"
    }
   ],
   "source": [
    "# Reorder it following the values:\n",
    "ordered_df = df.sort_values(by='Year')\n",
    "my_range=range(1,len(df.index)+1)\n",
    " \n",
    "# Create a color if the group is \"B\"\n",
    "my_color=np.where(ordered_df ['Count']== year2020_wp, 'orange', 'skyblue')\n",
    "my_size=np.where(ordered_df ['Count']== year2020_wp, 70, 50)\n",
    " \n",
    "# The vertival plot is made using the hline function\n",
    "# I load the seaborn library only to benefit the nice looking feature\n",
    "plt.hlines(y=my_range, xmin=0, xmax=ordered_df['Count'], color=my_color, alpha=0.8)\n",
    "plt.scatter(ordered_df['Count'], my_range, color=my_color, s=my_size, alpha=1)\n",
    " \n",
    "# Add title and exis names\n",
    "plt.yticks(my_range, ordered_df['Year'])\n",
    "plt.title(\"Scientific Data usage: data services. N° DB downloads\", loc='left')\n",
    "plt.xlabel('Count')\n",
    "plt.ylabel('Year')\n",
    "plt.savefig('images/figure2.png', dpi=1000, bbox_inches='tight')"
   ]
  },
  {
   "cell_type": "code",
   "execution_count": null,
   "metadata": {},
   "outputs": [],
   "source": []
  }
 ],
 "metadata": {
  "kernelspec": {
   "display_name": "Python 3",
   "language": "python",
   "name": "python3"
  },
  "language_info": {
   "codemirror_mode": {
    "name": "ipython",
    "version": 3
   },
   "file_extension": ".py",
   "mimetype": "text/x-python",
   "name": "python",
   "nbconvert_exporter": "python",
   "pygments_lexer": "ipython3",
   "version": "3.7.3"
  }
 },
 "nbformat": 4,
 "nbformat_minor": 2
}
